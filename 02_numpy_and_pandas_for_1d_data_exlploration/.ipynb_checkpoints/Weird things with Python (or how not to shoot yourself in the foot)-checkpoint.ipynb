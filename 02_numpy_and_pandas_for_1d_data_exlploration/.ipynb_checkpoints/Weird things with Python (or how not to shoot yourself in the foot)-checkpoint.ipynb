{
 "cells": [
  {
   "cell_type": "markdown",
   "metadata": {},
   "source": [
    "### Modifying slice of the NumPy array CHANGES INITIAL array\n",
    "#### So, arrays are mutable. A mutable object can be changed after it's created, and an immutable object can't."
   ]
  },
  {
   "cell_type": "code",
   "execution_count": 31,
   "metadata": {
    "collapsed": false
   },
   "outputs": [
    {
     "name": "stdout",
     "output_type": "stream",
     "text": [
      "initial array : [1 2 3 4 5]\n",
      "slice array before change : [1 2]\n",
      "slice array after change : [1000    2]\n",
      "initial array : [1000    2    3    4    5]\n"
     ]
    }
   ],
   "source": [
    "import numpy as np\n",
    "\n",
    "#create a numpy array of numbers 1,2,3,4,5:\n",
    "initial_array = np.array([1,2,3,4,5])\n",
    "print 'initial array :', initial_array\n",
    "\n",
    "#create a new array: first 2 elements from previous one. It's a \"slice\": \n",
    "slice_array = initial_array[:2]\n",
    "\n",
    "#print the slice to see what's there:\n",
    "print 'slice array before change :', slice_array\n",
    "\n",
    "#now let's modify the slice: change first element in the slice to 1000\n",
    "slice_array[0] = 1000\n",
    "print 'slice array after change :', slice_array\n",
    "\n",
    "# let's print initial array\n",
    "print 'initial array :', initial_array"
   ]
  },
  {
   "cell_type": "markdown",
   "metadata": {},
   "source": [
    "#### One more example of mutable NumPy arrays:"
   ]
  },
  {
   "cell_type": "code",
   "execution_count": 33,
   "metadata": {
    "collapsed": false
   },
   "outputs": [
    {
     "name": "stdout",
     "output_type": "stream",
     "text": [
      "initial: ['p' 'a' 'n' 'd' 'a']\n",
      "slice before change: ['p' 'a']\n",
      "slice after change: ['b' 'a']\n",
      "initial: ['b' 'a' 'n' 'd' 'a']\n"
     ]
    }
   ],
   "source": [
    "c = np.array(['p','a','n','d','a'])\n",
    "print 'initial:', c \n",
    "\n",
    "d = c[:2]\n",
    "print 'slice before change:', d\n",
    "\n",
    "d[0] = 'b'\n",
    "print 'slice after change:', d\n",
    "print 'initial:', c "
   ]
  },
  {
   "cell_type": "markdown",
   "metadata": {},
   "source": [
    "### NumPy: + vs += \n",
    "### It's not the same thing in numpy!"
   ]
  },
  {
   "cell_type": "code",
   "execution_count": 37,
   "metadata": {
    "collapsed": false
   },
   "outputs": [
    {
     "name": "stdout",
     "output_type": "stream",
     "text": [
      "initial a : [1 2 3 4]\n",
      "initial b : [1 2 3 4]\n",
      "a after change : [11 12 13 14]\n",
      "b after a has been changed (while we never touched b!!!) : [11 12 13 14]\n"
     ]
    }
   ],
   "source": [
    "import numpy as np\n",
    "a = np.array([1,2,3,4])\n",
    "print 'initial a :', a\n",
    "b = a \n",
    "print 'initial b :', b\n",
    "\n",
    "a += np.array([10,10,10,10])\n",
    "print 'a after change :', a\n",
    "print 'b after a has been changed (while we never touched b!!!) :',b"
   ]
  },
  {
   "cell_type": "code",
   "execution_count": 38,
   "metadata": {
    "collapsed": false
   },
   "outputs": [
    {
     "name": "stdout",
     "output_type": "stream",
     "text": [
      "initial a : [1 2 3 4]\n",
      "initial b : [1 2 3 4]\n",
      "a after change : [11 12 13 14]\n",
      "b after a has been changed (while we never touched b!!!) : [1 2 3 4]\n"
     ]
    }
   ],
   "source": [
    "import numpy as np\n",
    "a1 = np.array([1,2,3,4])\n",
    "print 'initial a :', a1\n",
    "b1 = a1\n",
    "print 'initial b :', b1\n",
    "\n",
    "a1 = a1 + np.array([10,10,10,10])\n",
    "print 'a after change :', a1\n",
    "print 'b after a has been changed (while we never touched b!!!) :',b1"
   ]
  },
  {
   "cell_type": "markdown",
   "metadata": {},
   "source": [
    "### Python lists: + vs +=\n",
    "### It's same but without vectorized operations"
   ]
  },
  {
   "cell_type": "code",
   "execution_count": 45,
   "metadata": {
    "collapsed": false,
    "scrolled": true
   },
   "outputs": [
    {
     "name": "stdout",
     "output_type": "stream",
     "text": [
      "initial a : [1, 2, 3, 4]\n",
      "initial b : [1, 2, 3, 4]\n",
      "a after change : [1, 2, 3, 4, 10, 10, 10, 10]\n",
      "b after a has been changed (while we never touched b!!!) : [1, 2, 3, 4]\n"
     ]
    }
   ],
   "source": [
    "a3 = [1,2,3,4]\n",
    "print 'initial a :', a3\n",
    "b3 = a3 \n",
    "print 'initial b :', b3\n",
    "\n",
    "a3 += [10,10,10,10]\n",
    "print 'a after change :', a3\n",
    "print 'b after a has been changed (while we never touched b!!!) :',b"
   ]
  },
  {
   "cell_type": "code",
   "execution_count": 44,
   "metadata": {
    "collapsed": false
   },
   "outputs": [
    {
     "name": "stdout",
     "output_type": "stream",
     "text": [
      "initial a : [1, 2, 3, 4]\n",
      "initial b : [1, 2, 3, 4]\n",
      "a after change : [1, 2, 3, 4, 10, 10, 10, 10]\n",
      "b after a has been changed (while we never touched b!!!) : [1, 2, 3, 4]\n"
     ]
    }
   ],
   "source": [
    "a4 = [1,2,3,4]\n",
    "print 'initial a :', a4\n",
    "b4 = a4 \n",
    "print 'initial b :', b4\n",
    "\n",
    "a4 = a4 + [10,10,10,10]\n",
    "print 'a after change :', a4\n",
    "print 'b after a has been changed (while we never touched b!!!) :',b4"
   ]
  }
 ],
 "metadata": {
  "kernelspec": {
   "display_name": "Python [Root]",
   "language": "python",
   "name": "Python [Root]"
  },
  "language_info": {
   "codemirror_mode": {
    "name": "ipython",
    "version": 2
   },
   "file_extension": ".py",
   "mimetype": "text/x-python",
   "name": "python",
   "nbconvert_exporter": "python",
   "pygments_lexer": "ipython2",
   "version": "2.7.12"
  }
 },
 "nbformat": 4,
 "nbformat_minor": 0
}
