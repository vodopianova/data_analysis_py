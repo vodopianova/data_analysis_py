{
 "cells": [
  {
   "cell_type": "markdown",
   "metadata": {},
   "source": [
    "### Let's load the data about udacity's users: \n"
   ]
  },
  {
   "cell_type": "code",
   "execution_count": 138,
   "metadata": {
    "collapsed": false
   },
   "outputs": [
    {
     "name": "stdout",
     "output_type": "stream",
     "text": [
      "{u'status': u'canceled', u'is_udacity': u'True', u'is_canceled': u'True', u'join_date': u'2014-11-10', u'account_key': u'448', u'cancel_date': u'2015-01-14', u'days_to_cancel': u'65'}\n"
     ]
    }
   ],
   "source": [
    "# let's make it all beautiful with functions \n",
    "\n",
    "import unicodecsv \n",
    "\n",
    "def read_csv(filename):\n",
    "    with open(filename,'rb') as f:\n",
    "        reader = unicodecsv.DictReader(f)\n",
    "        return list(reader)\n",
    "\n",
    "enrollments_filename = '/Users/a.vodopianova/Downloads/enrollments.csv'\n",
    "engagement_filename = '/Users/a.vodopianova/Downloads/daily_engagement.csv'\n",
    "submissions_filename = '/Users/a.vodopianova/Downloads/project_submissions.csv'\n",
    "\n",
    "enrollments = read_csv(enrollments_filename)\n",
    "daily_engagement = read_csv(engagement_filename)\n",
    "project_submissions = read_csv(submissions_filename)\n",
    "\n",
    "print enrollments[0]\n",
    "# print daily_engagement[0]\n",
    "# print project_submissions[0]"
   ]
  },
  {
   "cell_type": "markdown",
   "metadata": {},
   "source": [
    "### Let's update data types. They all are 'string' but default, which is not the most conveniet way for us."
   ]
  },
  {
   "cell_type": "code",
   "execution_count": 139,
   "metadata": {
    "collapsed": false
   },
   "outputs": [],
   "source": [
    "from datetime import datetime as dt \n",
    "\n",
    "def parse_date(date): \n",
    "    if date == '': \n",
    "        return None \n",
    "    else: \n",
    "        return dt.strptime(date, \"%Y-%m-%d\")\n",
    "    \n",
    "def parse_maybe_int(i): \n",
    "    if i == '': \n",
    "        return None \n",
    "    else: \n",
    "        return int(i)\n",
    "    \n",
    "for enrollment in enrollments: \n",
    "    enrollment['cancel_date'] = parse_date(enrollment['cancel_date'])\n",
    "    enrollment['days_to_cancel'] = parse_maybe_int(enrollment['days_to_cancel'])\n",
    "    #here we're giving enrollment['is_canceled'] a result of calculation \"enrollment['is_canceled'] == True \"\n",
    "    # if it's true, then value is gonna be True, otherwise - False \n",
    "    enrollment['is_canceled'] = enrollment['is_canceled'] == 'True' \n",
    "    enrollment['is_udacity'] = enrollment['is_udacity'] == 'True' \n",
    "    enrollment['join_date'] = parse_date(enrollment['join_date'])\n",
    "    \n",
    "# enrollments[0]"
   ]
  },
  {
   "cell_type": "code",
   "execution_count": 140,
   "metadata": {
    "collapsed": false
   },
   "outputs": [],
   "source": [
    "# Clean up the data types in the engagement table\n",
    "for engagement_record in daily_engagement:\n",
    "    engagement_record['lessons_completed'] = int(float(engagement_record['lessons_completed']))\n",
    "    engagement_record['num_courses_visited'] = int(float(engagement_record['num_courses_visited']))\n",
    "    engagement_record['projects_completed'] = int(float(engagement_record['projects_completed']))\n",
    "    engagement_record['total_minutes_visited'] = float(engagement_record['total_minutes_visited'])\n",
    "    engagement_record['utc_date'] = parse_date(engagement_record['utc_date'])\n",
    "    \n",
    "# daily_engagement[0]"
   ]
  },
  {
   "cell_type": "code",
   "execution_count": 141,
   "metadata": {
    "collapsed": false
   },
   "outputs": [],
   "source": [
    "# Clean up the data types in the submissions table\n",
    "for submission in project_submissions:\n",
    "    submission['completion_date'] = parse_date(submission['completion_date'])\n",
    "    submission['creation_date'] = parse_date(submission['creation_date'])\n",
    "\n",
    "# project_submissions[0]"
   ]
  },
  {
   "cell_type": "markdown",
   "metadata": {},
   "source": [
    "### Important!\n",
    "Note when running the above cells that we are actively changing the contents of our data variables. If you try to run these cells multiple times in the same session, an error will occur.\n",
    "\n",
    "## Investigating the Data"
   ]
  },
  {
   "cell_type": "code",
   "execution_count": 142,
   "metadata": {
    "collapsed": false
   },
   "outputs": [],
   "source": [
    "for eng_record in daily_engagement: \n",
    "    eng_record['account_key'] = eng_record['acct']\n",
    "    del[eng_record['acct']]"
   ]
  },
  {
   "cell_type": "code",
   "execution_count": 143,
   "metadata": {
    "collapsed": false
   },
   "outputs": [],
   "source": [
    "def count_unique_users(data): \n",
    "    stud = set()\n",
    "    for row in data: \n",
    "        stud.add(row['account_key'])\n",
    "    return len(stud)"
   ]
  },
  {
   "cell_type": "code",
   "execution_count": 144,
   "metadata": {
    "collapsed": false
   },
   "outputs": [
    {
     "name": "stdout",
     "output_type": "stream",
     "text": [
      "enrollment rows 1640\n",
      "enrollment students 1302\n",
      "engagement rows 136240\n",
      "engagement students 1237\n",
      "submission rows 3642\n",
      "submission students 743\n"
     ]
    }
   ],
   "source": [
    "print 'enrollment rows', len(enrollments)\n",
    "print 'enrollment students', count_unique_users(enrollments)\n",
    "print 'engagement rows', len(daily_engagement)\n",
    "print 'engagement students', count_unique_users(daily_engagement)\n",
    "print 'submission rows', len(project_submissions)\n",
    "print 'submission students', count_unique_users(project_submissions)"
   ]
  },
  {
   "cell_type": "code",
   "execution_count": 145,
   "metadata": {
    "collapsed": false
   },
   "outputs": [
    {
     "data": {
      "text/plain": [
       "u'0'"
      ]
     },
     "execution_count": 145,
     "metadata": {},
     "output_type": "execute_result"
    }
   ],
   "source": [
    "daily_engagement[0]['account_key']"
   ]
  },
  {
   "cell_type": "markdown",
   "metadata": {},
   "source": [
    "### Let's see why there are more students in enrollmenst then in daily_engagement! "
   ]
  },
  {
   "cell_type": "code",
   "execution_count": 146,
   "metadata": {
    "collapsed": false
   },
   "outputs": [
    {
     "name": "stdout",
     "output_type": "stream",
     "text": [
      "enrollment students: 1302\n",
      "engagement students: 1237\n",
      "# of weird stud: 65\n",
      "initial diff in stud # between sets: 65\n",
      "{u'status': u'canceled', u'is_udacity': False, u'is_canceled': True, u'join_date': datetime.datetime(2014, 11, 12, 0, 0), u'account_key': u'1219', u'cancel_date': datetime.datetime(2014, 11, 12, 0, 0), u'days_to_cancel': 0}\n",
      "{u'status': u'canceled', u'is_udacity': False, u'is_canceled': True, u'join_date': datetime.datetime(2014, 11, 13, 0, 0), u'account_key': u'871', u'cancel_date': datetime.datetime(2014, 11, 13, 0, 0), u'days_to_cancel': 0}\n",
      "{u'status': u'canceled', u'is_udacity': False, u'is_canceled': True, u'join_date': datetime.datetime(2014, 11, 15, 0, 0), u'account_key': u'1218', u'cancel_date': datetime.datetime(2014, 11, 15, 0, 0), u'days_to_cancel': 0}\n",
      "{u'status': u'canceled', u'is_udacity': False, u'is_canceled': True, u'join_date': datetime.datetime(2014, 12, 4, 0, 0), u'account_key': u'654', u'cancel_date': datetime.datetime(2014, 12, 4, 0, 0), u'days_to_cancel': 0}\n",
      "{u'status': u'canceled', u'is_udacity': False, u'is_canceled': True, u'join_date': datetime.datetime(2014, 12, 4, 0, 0), u'account_key': u'654', u'cancel_date': datetime.datetime(2014, 12, 4, 0, 0), u'days_to_cancel': 0}\n",
      "{u'status': u'canceled', u'is_udacity': False, u'is_canceled': True, u'join_date': datetime.datetime(2014, 12, 3, 0, 0), u'account_key': u'654', u'cancel_date': datetime.datetime(2014, 12, 3, 0, 0), u'days_to_cancel': 0}\n",
      "{u'status': u'canceled', u'is_udacity': False, u'is_canceled': True, u'join_date': datetime.datetime(2014, 12, 4, 0, 0), u'account_key': u'964', u'cancel_date': datetime.datetime(2014, 12, 4, 0, 0), u'days_to_cancel': 0}\n",
      "{u'status': u'canceled', u'is_udacity': False, u'is_canceled': True, u'join_date': datetime.datetime(2014, 12, 9, 0, 0), u'account_key': u'817', u'cancel_date': datetime.datetime(2014, 12, 9, 0, 0), u'days_to_cancel': 0}\n",
      "{u'status': u'canceled', u'is_udacity': False, u'is_canceled': True, u'join_date': datetime.datetime(2015, 1, 7, 0, 0), u'account_key': u'1171', u'cancel_date': datetime.datetime(2015, 1, 7, 0, 0), u'days_to_cancel': 0}\n",
      "{u'status': u'canceled', u'is_udacity': False, u'is_canceled': True, u'join_date': datetime.datetime(2015, 1, 8, 0, 0), u'account_key': u'884', u'cancel_date': datetime.datetime(2015, 1, 8, 0, 0), u'days_to_cancel': 0}\n",
      "{u'status': u'canceled', u'is_udacity': False, u'is_canceled': True, u'join_date': datetime.datetime(2014, 11, 17, 0, 0), u'account_key': u'875', u'cancel_date': datetime.datetime(2014, 11, 17, 0, 0), u'days_to_cancel': 0}\n",
      "{u'status': u'canceled', u'is_udacity': False, u'is_canceled': True, u'join_date': datetime.datetime(2014, 12, 4, 0, 0), u'account_key': u'1120', u'cancel_date': datetime.datetime(2014, 12, 4, 0, 0), u'days_to_cancel': 0}\n",
      "{u'status': u'canceled', u'is_udacity': False, u'is_canceled': True, u'join_date': datetime.datetime(2014, 12, 5, 0, 0), u'account_key': u'728', u'cancel_date': datetime.datetime(2014, 12, 5, 0, 0), u'days_to_cancel': 0}\n",
      "{u'status': u'canceled', u'is_udacity': False, u'is_canceled': True, u'join_date': datetime.datetime(2015, 1, 11, 0, 0), u'account_key': u'1191', u'cancel_date': datetime.datetime(2015, 1, 11, 0, 0), u'days_to_cancel': 0}\n",
      "{u'status': u'canceled', u'is_udacity': True, u'is_canceled': True, u'join_date': datetime.datetime(2015, 1, 10, 0, 0), u'account_key': u'1304', u'cancel_date': datetime.datetime(2015, 3, 10, 0, 0), u'days_to_cancel': 59}\n",
      "{u'status': u'canceled', u'is_udacity': True, u'is_canceled': True, u'join_date': datetime.datetime(2015, 3, 10, 0, 0), u'account_key': u'1304', u'cancel_date': datetime.datetime(2015, 6, 17, 0, 0), u'days_to_cancel': 99}\n",
      "{u'status': u'canceled', u'is_udacity': False, u'is_canceled': True, u'join_date': datetime.datetime(2015, 1, 11, 0, 0), u'account_key': u'1010', u'cancel_date': datetime.datetime(2015, 1, 11, 0, 0), u'days_to_cancel': 0}\n",
      "{u'status': u'canceled', u'is_udacity': False, u'is_canceled': True, u'join_date': datetime.datetime(2014, 11, 12, 0, 0), u'account_key': u'841', u'cancel_date': datetime.datetime(2014, 11, 12, 0, 0), u'days_to_cancel': 0}\n",
      "{u'status': u'canceled', u'is_udacity': False, u'is_canceled': True, u'join_date': datetime.datetime(2014, 12, 3, 0, 0), u'account_key': u'707', u'cancel_date': datetime.datetime(2014, 12, 3, 0, 0), u'days_to_cancel': 0}\n",
      "{u'status': u'canceled', u'is_udacity': False, u'is_canceled': True, u'join_date': datetime.datetime(2014, 12, 4, 0, 0), u'account_key': u'717', u'cancel_date': datetime.datetime(2014, 12, 4, 0, 0), u'days_to_cancel': 0}\n",
      "{u'status': u'canceled', u'is_udacity': False, u'is_canceled': True, u'join_date': datetime.datetime(2014, 12, 7, 0, 0), u'account_key': u'727', u'cancel_date': datetime.datetime(2014, 12, 7, 0, 0), u'days_to_cancel': 0}\n",
      "{u'status': u'canceled', u'is_udacity': False, u'is_canceled': True, u'join_date': datetime.datetime(2015, 1, 12, 0, 0), u'account_key': u'1273', u'cancel_date': datetime.datetime(2015, 1, 12, 0, 0), u'days_to_cancel': 0}\n",
      "{u'status': u'canceled', u'is_udacity': False, u'is_canceled': True, u'join_date': datetime.datetime(2014, 11, 10, 0, 0), u'account_key': u'1238', u'cancel_date': datetime.datetime(2014, 11, 10, 0, 0), u'days_to_cancel': 0}\n",
      "{u'status': u'canceled', u'is_udacity': False, u'is_canceled': True, u'join_date': datetime.datetime(2015, 2, 8, 0, 0), u'account_key': u'1044', u'cancel_date': datetime.datetime(2015, 2, 8, 0, 0), u'days_to_cancel': 0}\n",
      "{u'status': u'canceled', u'is_udacity': False, u'is_canceled': True, u'join_date': datetime.datetime(2015, 3, 5, 0, 0), u'account_key': u'749', u'cancel_date': datetime.datetime(2015, 3, 5, 0, 0), u'days_to_cancel': 0}\n",
      "{u'status': u'canceled', u'is_udacity': False, u'is_canceled': True, u'join_date': datetime.datetime(2015, 3, 7, 0, 0), u'account_key': u'1129', u'cancel_date': datetime.datetime(2015, 3, 7, 0, 0), u'days_to_cancel': 0}\n",
      "{u'status': u'canceled', u'is_udacity': False, u'is_canceled': True, u'join_date': datetime.datetime(2015, 2, 11, 0, 0), u'account_key': u'1129', u'cancel_date': datetime.datetime(2015, 2, 11, 0, 0), u'days_to_cancel': 0}\n",
      "{u'status': u'canceled', u'is_udacity': False, u'is_canceled': True, u'join_date': datetime.datetime(2015, 4, 6, 0, 0), u'account_key': u'926', u'cancel_date': datetime.datetime(2015, 4, 6, 0, 0), u'days_to_cancel': 0}\n",
      "{u'status': u'canceled', u'is_udacity': False, u'is_canceled': True, u'join_date': datetime.datetime(2015, 5, 8, 0, 0), u'account_key': u'711', u'cancel_date': datetime.datetime(2015, 5, 8, 0, 0), u'days_to_cancel': 0}\n",
      "{u'status': u'canceled', u'is_udacity': False, u'is_canceled': True, u'join_date': datetime.datetime(2015, 1, 8, 0, 0), u'account_key': u'803', u'cancel_date': datetime.datetime(2015, 1, 8, 0, 0), u'days_to_cancel': 0}\n",
      "{u'status': u'canceled', u'is_udacity': False, u'is_canceled': True, u'join_date': datetime.datetime(2015, 2, 6, 0, 0), u'account_key': u'799', u'cancel_date': datetime.datetime(2015, 2, 6, 0, 0), u'days_to_cancel': 0}\n",
      "{u'status': u'canceled', u'is_udacity': False, u'is_canceled': True, u'join_date': datetime.datetime(2015, 2, 6, 0, 0), u'account_key': u'789', u'cancel_date': datetime.datetime(2015, 2, 6, 0, 0), u'days_to_cancel': 0}\n",
      "{u'status': u'canceled', u'is_udacity': False, u'is_canceled': True, u'join_date': datetime.datetime(2015, 3, 4, 0, 0), u'account_key': u'819', u'cancel_date': datetime.datetime(2015, 3, 4, 0, 0), u'days_to_cancel': 0}\n",
      "{u'status': u'canceled', u'is_udacity': False, u'is_canceled': True, u'join_date': datetime.datetime(2015, 3, 4, 0, 0), u'account_key': u'819', u'cancel_date': datetime.datetime(2015, 3, 4, 0, 0), u'days_to_cancel': 0}\n",
      "{u'status': u'canceled', u'is_udacity': False, u'is_canceled': True, u'join_date': datetime.datetime(2015, 5, 29, 0, 0), u'account_key': u'902', u'cancel_date': datetime.datetime(2015, 5, 29, 0, 0), u'days_to_cancel': 0}\n",
      "{u'status': u'canceled', u'is_udacity': False, u'is_canceled': True, u'join_date': datetime.datetime(2015, 5, 29, 0, 0), u'account_key': u'996', u'cancel_date': datetime.datetime(2015, 5, 29, 0, 0), u'days_to_cancel': 0}\n",
      "{u'status': u'canceled', u'is_udacity': False, u'is_canceled': True, u'join_date': datetime.datetime(2015, 1, 12, 0, 0), u'account_key': u'1213', u'cancel_date': datetime.datetime(2015, 1, 12, 0, 0), u'days_to_cancel': 0}\n",
      "{u'status': u'canceled', u'is_udacity': False, u'is_canceled': True, u'join_date': datetime.datetime(2015, 1, 12, 0, 0), u'account_key': u'733', u'cancel_date': datetime.datetime(2015, 1, 12, 0, 0), u'days_to_cancel': 0}\n",
      "{u'status': u'canceled', u'is_udacity': False, u'is_canceled': True, u'join_date': datetime.datetime(2015, 5, 28, 0, 0), u'account_key': u'1237', u'cancel_date': datetime.datetime(2015, 5, 28, 0, 0), u'days_to_cancel': 0}\n",
      "{u'status': u'canceled', u'is_udacity': True, u'is_canceled': True, u'join_date': datetime.datetime(2015, 6, 1, 0, 0), u'account_key': u'1069', u'cancel_date': datetime.datetime(2015, 6, 1, 0, 0), u'days_to_cancel': 0}\n",
      "{u'status': u'canceled', u'is_udacity': False, u'is_canceled': True, u'join_date': datetime.datetime(2015, 6, 9, 0, 0), u'account_key': u'1086', u'cancel_date': datetime.datetime(2015, 6, 9, 0, 0), u'days_to_cancel': 0}\n",
      "{u'status': u'canceled', u'is_udacity': False, u'is_canceled': True, u'join_date': datetime.datetime(2015, 3, 6, 0, 0), u'account_key': u'1190', u'cancel_date': datetime.datetime(2015, 3, 6, 0, 0), u'days_to_cancel': 0}\n",
      "{u'status': u'canceled', u'is_udacity': False, u'is_canceled': True, u'join_date': datetime.datetime(2015, 4, 2, 0, 0), u'account_key': u'914', u'cancel_date': datetime.datetime(2015, 4, 2, 0, 0), u'days_to_cancel': 0}\n",
      "{u'status': u'canceled', u'is_udacity': False, u'is_canceled': True, u'join_date': datetime.datetime(2015, 7, 17, 0, 0), u'account_key': u'914', u'cancel_date': datetime.datetime(2015, 7, 17, 0, 0), u'days_to_cancel': 0}\n",
      "{u'status': u'canceled', u'is_udacity': False, u'is_canceled': True, u'join_date': datetime.datetime(2015, 7, 17, 0, 0), u'account_key': u'968', u'cancel_date': datetime.datetime(2015, 7, 17, 0, 0), u'days_to_cancel': 0}\n",
      "{u'status': u'canceled', u'is_udacity': False, u'is_canceled': True, u'join_date': datetime.datetime(2015, 7, 17, 0, 0), u'account_key': u'1155', u'cancel_date': datetime.datetime(2015, 7, 17, 0, 0), u'days_to_cancel': 0}\n",
      "{u'status': u'canceled', u'is_udacity': False, u'is_canceled': True, u'join_date': datetime.datetime(2015, 5, 10, 0, 0), u'account_key': u'766', u'cancel_date': datetime.datetime(2015, 5, 10, 0, 0), u'days_to_cancel': 0}\n",
      "{u'status': u'canceled', u'is_udacity': False, u'is_canceled': True, u'join_date': datetime.datetime(2015, 4, 5, 0, 0), u'account_key': u'739', u'cancel_date': datetime.datetime(2015, 4, 5, 0, 0), u'days_to_cancel': 0}\n",
      "{u'status': u'canceled', u'is_udacity': False, u'is_canceled': True, u'join_date': datetime.datetime(2015, 4, 7, 0, 0), u'account_key': u'1222', u'cancel_date': datetime.datetime(2015, 4, 7, 0, 0), u'days_to_cancel': 0}\n",
      "{u'status': u'canceled', u'is_udacity': False, u'is_canceled': True, u'join_date': datetime.datetime(2015, 5, 31, 0, 0), u'account_key': u'1125', u'cancel_date': datetime.datetime(2015, 5, 31, 0, 0), u'days_to_cancel': 0}\n",
      "{u'status': u'canceled', u'is_udacity': False, u'is_canceled': True, u'join_date': datetime.datetime(2015, 6, 7, 0, 0), u'account_key': u'1025', u'cancel_date': datetime.datetime(2015, 6, 7, 0, 0), u'days_to_cancel': 0}\n",
      "{u'status': u'canceled', u'is_udacity': False, u'is_canceled': True, u'join_date': datetime.datetime(2015, 6, 6, 0, 0), u'account_key': u'750', u'cancel_date': datetime.datetime(2015, 6, 6, 0, 0), u'days_to_cancel': 0}\n",
      "{u'status': u'canceled', u'is_udacity': False, u'is_canceled': True, u'join_date': datetime.datetime(2015, 8, 11, 0, 0), u'account_key': u'889', u'cancel_date': datetime.datetime(2015, 8, 11, 0, 0), u'days_to_cancel': 0}\n",
      "{u'status': u'canceled', u'is_udacity': False, u'is_canceled': True, u'join_date': datetime.datetime(2014, 11, 10, 0, 0), u'account_key': u'737', u'cancel_date': datetime.datetime(2014, 11, 10, 0, 0), u'days_to_cancel': 0}\n",
      "{u'status': u'canceled', u'is_udacity': False, u'is_canceled': True, u'join_date': datetime.datetime(2014, 11, 10, 0, 0), u'account_key': u'878', u'cancel_date': datetime.datetime(2014, 11, 10, 0, 0), u'days_to_cancel': 0}\n",
      "{u'status': u'canceled', u'is_udacity': False, u'is_canceled': True, u'join_date': datetime.datetime(2015, 2, 7, 0, 0), u'account_key': u'981', u'cancel_date': datetime.datetime(2015, 2, 7, 0, 0), u'days_to_cancel': 0}\n",
      "{u'status': u'current', u'is_udacity': True, u'is_canceled': False, u'join_date': datetime.datetime(2015, 2, 25, 0, 0), u'account_key': u'1101', u'cancel_date': None, u'days_to_cancel': None}\n",
      "{u'status': u'canceled', u'is_udacity': False, u'is_canceled': True, u'join_date': datetime.datetime(2015, 3, 9, 0, 0), u'account_key': u'1148', u'cancel_date': datetime.datetime(2015, 3, 9, 0, 0), u'days_to_cancel': 0}\n",
      "{u'status': u'canceled', u'is_udacity': False, u'is_canceled': True, u'join_date': datetime.datetime(2015, 3, 11, 0, 0), u'account_key': u'1186', u'cancel_date': datetime.datetime(2015, 3, 11, 0, 0), u'days_to_cancel': 0}\n",
      "{u'status': u'canceled', u'is_udacity': False, u'is_canceled': True, u'join_date': datetime.datetime(2014, 12, 6, 0, 0), u'account_key': u'725', u'cancel_date': datetime.datetime(2014, 12, 6, 0, 0), u'days_to_cancel': 0}\n",
      "{u'status': u'canceled', u'is_udacity': False, u'is_canceled': True, u'join_date': datetime.datetime(2015, 4, 4, 0, 0), u'account_key': u'1145', u'cancel_date': datetime.datetime(2015, 4, 4, 0, 0), u'days_to_cancel': 0}\n",
      "{u'status': u'canceled', u'is_udacity': False, u'is_canceled': True, u'join_date': datetime.datetime(2015, 1, 8, 0, 0), u'account_key': u'802', u'cancel_date': datetime.datetime(2015, 1, 8, 0, 0), u'days_to_cancel': 0}\n",
      "{u'status': u'canceled', u'is_udacity': False, u'is_canceled': True, u'join_date': datetime.datetime(2015, 1, 8, 0, 0), u'account_key': u'664', u'cancel_date': datetime.datetime(2015, 1, 8, 0, 0), u'days_to_cancel': 0}\n",
      "{u'status': u'canceled', u'is_udacity': False, u'is_canceled': True, u'join_date': datetime.datetime(2015, 1, 12, 0, 0), u'account_key': u'997', u'cancel_date': datetime.datetime(2015, 1, 12, 0, 0), u'days_to_cancel': 0}\n",
      "{u'status': u'canceled', u'is_udacity': False, u'is_canceled': True, u'join_date': datetime.datetime(2015, 5, 12, 0, 0), u'account_key': u'870', u'cancel_date': datetime.datetime(2015, 5, 12, 0, 0), u'days_to_cancel': 0}\n",
      "{u'status': u'canceled', u'is_udacity': False, u'is_canceled': True, u'join_date': datetime.datetime(2015, 1, 13, 0, 0), u'account_key': u'1284', u'cancel_date': datetime.datetime(2015, 1, 13, 0, 0), u'days_to_cancel': 0}\n",
      "{u'status': u'canceled', u'is_udacity': False, u'is_canceled': True, u'join_date': datetime.datetime(2015, 2, 9, 0, 0), u'account_key': u'1079', u'cancel_date': datetime.datetime(2015, 2, 9, 0, 0), u'days_to_cancel': 0}\n",
      "{u'status': u'canceled', u'is_udacity': False, u'is_canceled': True, u'join_date': datetime.datetime(2015, 7, 14, 0, 0), u'account_key': u'1063', u'cancel_date': datetime.datetime(2015, 7, 14, 0, 0), u'days_to_cancel': 0}\n",
      "{u'status': u'canceled', u'is_udacity': False, u'is_canceled': True, u'join_date': datetime.datetime(2015, 7, 20, 0, 0), u'account_key': u'1270', u'cancel_date': datetime.datetime(2015, 7, 20, 0, 0), u'days_to_cancel': 0}\n",
      "{u'status': u'canceled', u'is_udacity': False, u'is_canceled': True, u'join_date': datetime.datetime(2015, 6, 3, 0, 0), u'account_key': u'1291', u'cancel_date': datetime.datetime(2015, 6, 3, 0, 0), u'days_to_cancel': 0}\n",
      "{u'status': u'canceled', u'is_udacity': False, u'is_canceled': True, u'join_date': datetime.datetime(2015, 6, 9, 0, 0), u'account_key': u'1241', u'cancel_date': datetime.datetime(2015, 6, 9, 0, 0), u'days_to_cancel': 0}\n"
     ]
    }
   ],
   "source": [
    "print 'enrollment students:', count_unique_users(enrollments)\n",
    "print 'engagement students:', count_unique_users(daily_engagement)\n",
    "\n",
    "stud_enr_set = set()\n",
    "for row in enrollments: \n",
    "    stud_enr_set.add(row['account_key'])\n",
    "                 \n",
    "stud_eng_set = set()\n",
    "for row in daily_engagement: \n",
    "    stud_eng_set.add(row['account_key'])   \n",
    "\n",
    "weird_students = []\n",
    "for stud in stud_enr_set: \n",
    "    if stud not in stud_eng_set: \n",
    "        weird_students.append(int(stud))\n",
    "print '# of weird stud:', len(weird_students)\n",
    "print 'initial diff in stud # between sets:', count_unique_users(enrollments)-count_unique_users(daily_engagement)\n",
    "\n",
    "for i in range(0,len(enrollments)-1):\n",
    "    if enrollments[i]['account_key'] not in stud_eng_set: \n",
    "        print  enrollments[i]"
   ]
  },
  {
   "cell_type": "markdown",
   "metadata": {},
   "source": [
    "### Ok, so there are users with 0 days to cancel - that's why they are in enrollments, but they are not in daily eng stats - you probably need to be active for at least 1 day to get into this table. \n",
    "### So, let's see how many users with other problems are left in our data set:"
   ]
  },
  {
   "cell_type": "code",
   "execution_count": 147,
   "metadata": {
    "collapsed": false
   },
   "outputs": [
    {
     "name": "stdout",
     "output_type": "stream",
     "text": [
      "{u'status': u'canceled', u'is_udacity': True, u'is_canceled': True, u'join_date': datetime.datetime(2015, 1, 10, 0, 0), u'account_key': u'1304', u'cancel_date': datetime.datetime(2015, 3, 10, 0, 0), u'days_to_cancel': 59}\n",
      "{u'status': u'canceled', u'is_udacity': True, u'is_canceled': True, u'join_date': datetime.datetime(2015, 3, 10, 0, 0), u'account_key': u'1304', u'cancel_date': datetime.datetime(2015, 6, 17, 0, 0), u'days_to_cancel': 99}\n",
      "{u'status': u'current', u'is_udacity': True, u'is_canceled': False, u'join_date': datetime.datetime(2015, 2, 25, 0, 0), u'account_key': u'1101', u'cancel_date': None, u'days_to_cancel': None}\n",
      "# of corresponding records in enrollments: 3\n"
     ]
    }
   ],
   "source": [
    "# find number of records in enrollment absent in engagement with days to cancel other then 0\n",
    "# and print these records \n",
    "cnt = 0 \n",
    "for i in range(0,len(enrollments)-1):\n",
    "    if enrollments[i]['account_key'] not in stud_eng_set and enrollments[i]['days_to_cancel']!=0: \n",
    "        cnt = cnt + 1 \n",
    "        print enrollments[i]\n",
    "print '# of corresponding records in enrollments:', cnt"
   ]
  },
  {
   "cell_type": "markdown",
   "metadata": {},
   "source": [
    "### Let's remove these test users (u'is_udacity': True) from our data and save it to a new variable"
   ]
  },
  {
   "cell_type": "code",
   "execution_count": 148,
   "metadata": {
    "collapsed": false
   },
   "outputs": [
    {
     "name": "stdout",
     "output_type": "stream",
     "text": [
      "There are 6 test udacity accounts. Lets create a function to exclude them:\n",
      "non_udacity_enrollments length: 1622\n",
      "non_udacity_engagement length: 135656\n",
      "non_udacity_submissions length: 3634\n"
     ]
    }
   ],
   "source": [
    "udacity_test_accounts = set() \n",
    "for enrollment in enrollments:\n",
    "    if enrollment['is_udacity']: \n",
    "        udacity_test_accounts.add(enrollment['account_key'])\n",
    "print 'There are',len(udacity_test_accounts), 'test udacity accounts. Lets create a function to exclude them:'\n",
    "\n",
    "def remove_test_acc(data):\n",
    "    cleaned_data = [] \n",
    "    for data_point in data: \n",
    "        if data_point['account_key'] not in udacity_test_accounts: \n",
    "            cleaned_data.append(data_point)\n",
    "    return cleaned_data\n",
    "\n",
    "non_udacity_enrollments = remove_test_acc(enrollments)\n",
    "non_udacity_engagement = remove_test_acc(daily_engagement)\n",
    "non_udacity_submissions = remove_test_acc(project_submissions)\n",
    "\n",
    "print 'non_udacity_enrollments length:', len(non_udacity_enrollments)\n",
    "print 'non_udacity_engagement length:', len(non_udacity_engagement)\n",
    "print 'non_udacity_submissions length:', len(non_udacity_submissions)"
   ]
  },
  {
   "cell_type": "markdown",
   "metadata": {},
   "source": [
    "### Creating a dictionary with students who either haven't cancelled or who stayed enrolled for at least 7 days "
   ]
  },
  {
   "cell_type": "code",
   "execution_count": 149,
   "metadata": {
    "collapsed": false
   },
   "outputs": [
    {
     "name": "stdout",
     "output_type": "stream",
     "text": [
      "995\n"
     ]
    }
   ],
   "source": [
    "paid_students = {}\n",
    "for enrollment in non_udacity_enrollments: \n",
    "    if enrollment['is_canceled'] == False or enrollment['days_to_cancel'] > 7: \n",
    "        #print enrollment[i]\n",
    "        account_key = enrollment['account_key']\n",
    "        enrollment_date = enrollment['join_date']\n",
    "        \n",
    "        # there might be fe enrollments per student, let's keep the date of the most recent\n",
    "        if account_key not in paid_students or enrollment_date > paid_students[account_key]: \n",
    "            paid_students[account_key]=enrollment_date\n",
    "\n",
    "print len(paid_students)"
   ]
  },
  {
   "cell_type": "markdown",
   "metadata": {},
   "source": [
    "## Getting Data from First Week"
   ]
  },
  {
   "cell_type": "code",
   "execution_count": 150,
   "metadata": {
    "collapsed": true
   },
   "outputs": [],
   "source": [
    "# Takes a student's join date and the date of a specific engagement record,\n",
    "# and returns True if that engagement record happened within one week\n",
    "# of the student joining.\n",
    "def within_one_week(join_date, engagement_date):\n",
    "    time_delta = engagement_date - join_date\n",
    "    return time_delta.days < 7 and time_delta.days>=0\n",
    "# we added \"and time_delta.days>=0\" later to fix this function "
   ]
  },
  {
   "cell_type": "code",
   "execution_count": 151,
   "metadata": {
    "collapsed": false
   },
   "outputs": [
    {
     "name": "stdout",
     "output_type": "stream",
     "text": [
      "paid_enrollments records: 1293\n",
      "paid_engagement records: 134549\n",
      "paid_submissions records: 3618\n"
     ]
    }
   ],
   "source": [
    "## Create a list of rows from the engagement table including only rows where\n",
    "## the student is one of the paid students you just found, and the date is within\n",
    "## one week of the student's join date.\n",
    "\n",
    "# first let's have data for paid users only \n",
    "def remove_free_trials(data): \n",
    "    new_data = []\n",
    "    for data_point in data: \n",
    "        if data_point['account_key'] in paid_students:\n",
    "            new_data.append(data_point)\n",
    "    return new_data\n",
    "\n",
    "paid_enrollments = remove_free_trials(non_udacity_enrollments)\n",
    "paid_engagement = remove_free_trials(non_udacity_engagement)\n",
    "paid_submissions = remove_free_trials(non_udacity_submissions)\n",
    "\n",
    "\n",
    "# let's see how many records are out there: \n",
    "print 'paid_enrollments records:',len(paid_enrollments)\n",
    "print 'paid_engagement records:',len(paid_engagement)\n",
    "print 'paid_submissions records:',len(paid_submissions)"
   ]
  },
  {
   "cell_type": "code",
   "execution_count": 152,
   "metadata": {
    "collapsed": true
   },
   "outputs": [],
   "source": [
    "for eng in paid_engagement: \n",
    "    if eng['num_courses_visited'] > 0: \n",
    "        eng['has_visited'] = 1 \n",
    "    else: \n",
    "        eng['has_visited'] = 0"
   ]
  },
  {
   "cell_type": "code",
   "execution_count": 153,
   "metadata": {
    "collapsed": false
   },
   "outputs": [
    {
     "name": "stdout",
     "output_type": "stream",
     "text": [
      "paid_engagement_in_first_week: 6919\n"
     ]
    }
   ],
   "source": [
    "# now let's create a list of rows from the eng table with only rows where stud is paid and within 1 week from start \n",
    "paid_engagement_in_first_week = []\n",
    "\n",
    "for eng in paid_engagement:\n",
    "    acc_key = eng['account_key']\n",
    "    join_date = paid_students[acc_key]\n",
    "    engagement_date = eng['utc_date']\n",
    "    \n",
    "    if within_one_week(join_date, engagement_date): \n",
    "        paid_engagement_in_first_week.append(eng)\n",
    "\n",
    "print 'paid_engagement_in_first_week:', len(paid_engagement_in_first_week)"
   ]
  },
  {
   "cell_type": "markdown",
   "metadata": {
    "collapsed": true
   },
   "source": [
    "### Let's investigate a little bit: average time paid users spent in the classroom"
   ]
  },
  {
   "cell_type": "code",
   "execution_count": 154,
   "metadata": {
    "collapsed": false
   },
   "outputs": [],
   "source": [
    "from collections import defaultdict\n",
    "# defaultdict allows us to specify default value. \n",
    "# In this case we want to get an emply list if there is no value with the key \n",
    "\n",
    "engagement_by_account = defaultdict(list)\n",
    "for eng_record in paid_engagement_in_first_week: \n",
    "    account_key = eng_record['account_key']\n",
    "    engagement_by_account[account_key].append(eng_record)"
   ]
  },
  {
   "cell_type": "code",
   "execution_count": 155,
   "metadata": {
    "collapsed": false
   },
   "outputs": [],
   "source": [
    "total_minutes_by_acc = {}\n",
    "\n",
    "for account_key, eng_for_student in engagement_by_account.items():\n",
    "    total_minutes = 0 \n",
    "    for eng_record in eng_for_student: \n",
    "        total_minutes += eng_record['total_minutes_visited']\n",
    "    total_minutes_by_acc[account_key] = total_minutes"
   ]
  },
  {
   "cell_type": "code",
   "execution_count": 156,
   "metadata": {
    "collapsed": false
   },
   "outputs": [
    {
     "name": "stdout",
     "output_type": "stream",
     "text": [
      "Mean: 306.708326753\n",
      "Standard deviation: 412.996933409\n",
      "Min: 0.0\n",
      "Max: 3564.7332645\n"
     ]
    }
   ],
   "source": [
    "total_minutes = total_minutes_by_acc.values()\n",
    "\n",
    "import numpy as np\n",
    "print 'Mean:', np.mean(total_minutes)\n",
    "print 'Standard deviation:', np.std(total_minutes)\n",
    "print 'Min:', np.min(total_minutes)\n",
    "print 'Max:', np.max(total_minutes)\n",
    "\n",
    "# yea, python has its own min and max functions, we'll find out later why it's better to use nympy min and max "
   ]
  },
  {
   "cell_type": "markdown",
   "metadata": {},
   "source": [
    "### Well, MAX value is strange! 10568 minutes is more then 7 days. That's weird, let's investigate."
   ]
  },
  {
   "cell_type": "code",
   "execution_count": 157,
   "metadata": {
    "collapsed": false
   },
   "outputs": [
    {
     "name": "stdout",
     "output_type": "stream",
     "text": [
      "max_minutes 3564.7332645\n",
      "max_minutes 479\n"
     ]
    }
   ],
   "source": [
    "stud_with_max_minutes = None \n",
    "max_minutes = 0 \n",
    "\n",
    "for student, total_minutes in total_minutes_by_acc.items(): \n",
    "    if total_minutes > max_minutes: \n",
    "        max_minutes = total_minutes\n",
    "        stud_with_max_minutes = student\n",
    "print 'max_minutes', max_minutes\n",
    "print 'max_minutes', student"
   ]
  },
  {
   "cell_type": "code",
   "execution_count": 158,
   "metadata": {
    "collapsed": false
   },
   "outputs": [
    {
     "name": "stdout",
     "output_type": "stream",
     "text": [
      "{u'lessons_completed': 4, u'num_courses_visited': 4, 'has_visited': 1, u'total_minutes_visited': 850.519339666, u'projects_completed': 0, 'account_key': u'163', u'utc_date': datetime.datetime(2015, 7, 9, 0, 0)}\n",
      "{u'lessons_completed': 6, u'num_courses_visited': 6, 'has_visited': 1, u'total_minutes_visited': 872.633923334, u'projects_completed': 0, 'account_key': u'163', u'utc_date': datetime.datetime(2015, 7, 10, 0, 0)}\n",
      "{u'lessons_completed': 6, u'num_courses_visited': 2, 'has_visited': 1, u'total_minutes_visited': 777.018903666, u'projects_completed': 0, 'account_key': u'163', u'utc_date': datetime.datetime(2015, 7, 11, 0, 0)}\n",
      "{u'lessons_completed': 2, u'num_courses_visited': 1, 'has_visited': 1, u'total_minutes_visited': 294.568774, u'projects_completed': 0, 'account_key': u'163', u'utc_date': datetime.datetime(2015, 7, 12, 0, 0)}\n",
      "{u'lessons_completed': 1, u'num_courses_visited': 3, 'has_visited': 1, u'total_minutes_visited': 471.2139785, u'projects_completed': 0, 'account_key': u'163', u'utc_date': datetime.datetime(2015, 7, 13, 0, 0)}\n",
      "{u'lessons_completed': 1, u'num_courses_visited': 2, 'has_visited': 1, u'total_minutes_visited': 298.778345333, u'projects_completed': 0, 'account_key': u'163', u'utc_date': datetime.datetime(2015, 7, 14, 0, 0)}\n",
      "{u'lessons_completed': 0, u'num_courses_visited': 0, 'has_visited': 0, u'total_minutes_visited': 0.0, u'projects_completed': 0, 'account_key': u'163', u'utc_date': datetime.datetime(2015, 7, 15, 0, 0)}\n"
     ]
    }
   ],
   "source": [
    "for eng_rec in paid_engagement_in_first_week: \n",
    "    if eng_rec['account_key'] == stud_with_max_minutes: \n",
    "        print eng_rec"
   ]
  },
  {
   "cell_type": "markdown",
   "metadata": {},
   "source": [
    "#### Hmmm, so the first record for student with max (10568) minutes during first week is Jan 2015; last - Apr 4th. It's not within 7 days!! Let's go back and fix that function within_one_week by adding: and time_delta.days>=0"
   ]
  },
  {
   "cell_type": "markdown",
   "metadata": {},
   "source": [
    "### Now let's get # of lessons completed in first week"
   ]
  },
  {
   "cell_type": "code",
   "execution_count": 159,
   "metadata": {
    "collapsed": false
   },
   "outputs": [
    {
     "name": "stdout",
     "output_type": "stream",
     "text": [
      "total_lessons Mean: 1.63618090452\n",
      "total_lessons Standard deviation: 3.00256129983\n",
      "total_lessons Min: 0\n",
      "total_lessons Max: 36\n"
     ]
    }
   ],
   "source": [
    "total_lessons_by_acc = {}\n",
    "\n",
    "for account_key, eng_for_student in engagement_by_account.items():\n",
    "    total_accs = 0 \n",
    "    for eng_record in eng_for_student: \n",
    "        total_accs += eng_record['lessons_completed']\n",
    "    total_lessons_by_acc[account_key] = total_accs\n",
    "\n",
    "total_lessons = total_lessons_by_acc.values()\n",
    "\n",
    "import numpy as np\n",
    "print 'total_lessons Mean:', np.mean(total_lessons)\n",
    "print 'total_lessons Standard deviation:', np.std(total_lessons)\n",
    "print 'total_lessons Min:', np.min(total_lessons)\n",
    "print 'total_lessons Max:', np.max(total_lessons)"
   ]
  },
  {
   "cell_type": "markdown",
   "metadata": {},
   "source": [
    "### Let's do same but with a function"
   ]
  },
  {
   "cell_type": "code",
   "execution_count": 160,
   "metadata": {
    "collapsed": false
   },
   "outputs": [],
   "source": [
    "from collections import defaultdict\n",
    "# defaultdict allows us to specify default value. \n",
    "# In this case we want to get an emply list if there is no value with the key \n",
    "\n",
    "def group_data(data,key_name):\n",
    "    grouped_data = defaultdict(list)\n",
    "    for data_point in data: \n",
    "        key = data_point[key_name]\n",
    "        grouped_data[key].append(data_point)\n",
    "    return grouped_data\n",
    "\n",
    "# engagement_by_acc = group_data(paid_engagement_in_first_week,'account_key')\n",
    "\n",
    "def sum_grouped_values(grouped_data,field_name): \n",
    "    summed_data = {}\n",
    "    for key, data_points in grouped_data.items():\n",
    "        total = 0 \n",
    "        for data_point in data_points: \n",
    "            total += data_point[field_name]\n",
    "        summed_data[key] = total\n",
    "    return summed_data\n",
    "\n",
    "# total_minutes_by_acc = sum_grouped_values(engagement_by_acc,'total_minutes_visited'):"
   ]
  },
  {
   "cell_type": "code",
   "execution_count": 161,
   "metadata": {
    "collapsed": false
   },
   "outputs": [
    {
     "name": "stdout",
     "output_type": "stream",
     "text": [
      "Populating the interactive namespace from numpy and matplotlib\n",
      "Mean: 1.63618090452\n",
      "Standard deviation: 3.00256129983\n",
      "Min: 0\n",
      "Max: 36\n"
     ]
    },
    {
     "data": {
      "image/png": "[encoded data removed]",
      "text/plain": [
       "<matplotlib.figure.Figure at 0x12cd66cd0>"
      ]
     },
     "metadata": {},
     "output_type": "display_data"
    }
   ],
   "source": [
    "%pylab inline\n",
    "\n",
    "import numpy as np\n",
    "import matplotlib.pyplot as plt \n",
    "\n",
    "def describe_data(data): \n",
    "    print 'Mean:', np.mean(data)\n",
    "    print 'Standard deviation:', np.std(data)\n",
    "    print 'Min:', np.min(data)\n",
    "    print 'Max:', np.max(data)\n",
    "    plt.hist(data)\n",
    "\n",
    "# describe_data(total_minutes)\n",
    "\n",
    "engagement_by_acc = group_data(paid_engagement_in_first_week,'account_key')\n",
    "total_lessons_by_acc = sum_grouped_values(engagement_by_acc,'lessons_completed')\n",
    "describe_data(total_lessons_by_acc.values())"
   ]
  },
  {
   "cell_type": "markdown",
   "metadata": {
    "collapsed": true
   },
   "source": [
    "### Let's analyze number of days students spend on udacity during with courses visiting on their first week. For this we'll go back and update paid_engagements by adding a new field: has_visited. And then apply above logic for calculations."
   ]
  },
  {
   "cell_type": "code",
   "execution_count": 162,
   "metadata": {
    "collapsed": false
   },
   "outputs": [
    {
     "name": "stdout",
     "output_type": "stream",
     "text": [
      "Mean: 2.86733668342\n",
      "Standard deviation: 2.25519800292\n",
      "Min: 0\n",
      "Max: 7\n"
     ]
    },
    {
     "data": {
      "image/png": "[encoded data removed]",
      "text/plain": [
       "<matplotlib.figure.Figure at 0x12cf42650>"
      ]
     },
     "metadata": {},
     "output_type": "display_data"
    }
   ],
   "source": [
    "engagement_by_acc = group_data(paid_engagement_in_first_week,'account_key')\n",
    "total_has_visited = sum_grouped_values(engagement_by_acc,'has_visited')\n",
    "describe_data(total_has_visited.values())\n"
   ]
  },
  {
   "cell_type": "markdown",
   "metadata": {},
   "source": [
    "### Create 2 lists of engagement data for paid students in the first week: passed 1st lesson and didn't pass."
   ]
  },
  {
   "cell_type": "markdown",
   "metadata": {},
   "source": [
    "#### We need users completed spesific lesson (we have lesson key). But what does it mean \"completed\"? Let's check possible values for 'assigned_rating' in paid_submissions:"
   ]
  },
  {
   "cell_type": "code",
   "execution_count": 163,
   "metadata": {
    "collapsed": false
   },
   "outputs": [
    {
     "name": "stdout",
     "output_type": "stream",
     "text": [
      "{u'lesson_key': u'3176718735', u'processing_state': u'EVALUATED', u'account_key': u'256', u'assigned_rating': u'UNGRADED', u'completion_date': datetime.datetime(2015, 1, 16, 0, 0), u'creation_date': datetime.datetime(2015, 1, 14, 0, 0)}\n"
     ]
    }
   ],
   "source": [
    "print paid_submissions[0]"
   ]
  },
  {
   "cell_type": "code",
   "execution_count": 164,
   "metadata": {
    "collapsed": false
   },
   "outputs": [
    {
     "name": "stdout",
     "output_type": "stream",
     "text": [
      "set([u'', u'DISTINCTION', u'UNGRADED', u'PASSED', u'INCOMPLETE'])\n"
     ]
    }
   ],
   "source": [
    "processing_states = set()\n",
    "for subm in paid_submissions: \n",
    "    if subm['lesson_key'] in subway_project_lesson_keys: \n",
    "        processing_states.add(subm['assigned_rating'])\n",
    "print processing_states"
   ]
  },
  {
   "cell_type": "code",
   "execution_count": 165,
   "metadata": {
    "collapsed": false
   },
   "outputs": [
    {
     "name": "stdout",
     "output_type": "stream",
     "text": [
      "students_passed_first_lesson: 647\n"
     ]
    }
   ],
   "source": [
    "######################################\n",
    "#                 11                 #\n",
    "######################################\n",
    "\n",
    "## Create two lists of engagement data for paid students in the first week.\n",
    "## The first list should contain data for students who eventually pass the\n",
    "## subway project, and the second list should contain data for students\n",
    "## who do not.\n",
    "\n",
    "subway_project_lesson_keys = ['746169184', '3176718735']\n",
    "\n",
    "passing_engagement = []\n",
    "non_passing_engagement = []\n",
    "\n",
    "students_passed_first_lesson = set()\n",
    "\n",
    "for subm in paid_submissions: \n",
    "    if subm['lesson_key'] in subway_project_lesson_keys and subm['assigned_rating'] in [\"PASSED\",\"DISTINCTION\"]: \n",
    "        students_passed_first_lesson.add(subm['account_key'])\n",
    "        \n",
    "print 'students_passed_first_lesson:', len(students_passed_first_lesson)"
   ]
  },
  {
   "cell_type": "code",
   "execution_count": 166,
   "metadata": {
    "collapsed": false
   },
   "outputs": [
    {
     "name": "stdout",
     "output_type": "stream",
     "text": [
      "passing_engagement: 4527\n",
      "non_passing_engagement: 2392\n"
     ]
    }
   ],
   "source": [
    "for eng in paid_engagement_in_first_week: \n",
    "    if eng['account_key'] in students_passed_first_lesson: \n",
    "        passing_engagement.append(eng)\n",
    "\n",
    "for eng in paid_engagement_in_first_week: \n",
    "    if eng['account_key'] not in students_passed_first_lesson: \n",
    "        non_passing_engagement.append(eng)    \n",
    "\n",
    "print 'passing_engagement:', len(passing_engagement)\n",
    "print 'non_passing_engagement:', len(non_passing_engagement)"
   ]
  },
  {
   "cell_type": "markdown",
   "metadata": {},
   "source": [
    "### It's time to recalculate mean, std, min, max per group: passed the 1st project or no: "
   ]
  },
  {
   "cell_type": "code",
   "execution_count": 167,
   "metadata": {
    "collapsed": false
   },
   "outputs": [
    {
     "name": "stdout",
     "output_type": "stream",
     "text": [
      "passing students, lessons_completed:\n",
      "Mean: 2.05255023184\n",
      "Standard deviation: 3.14222705558\n",
      "Min: 0\n",
      "Max: 36\n",
      "\n",
      "non_passing students, lessons_completed:\n",
      "Mean: 0.862068965517\n",
      "Standard deviation: 2.54915994183\n",
      "Min: 0\n",
      "Max: 27\n"
     ]
    },
    {
     "data": {
      "image/png": "[encoded data removed]",
      "text/plain": [
       "<matplotlib.figure.Figure at 0x11d3a5dd0>"
      ]
     },
     "metadata": {},
     "output_type": "display_data"
    }
   ],
   "source": [
    "print 'passing students, lessons_completed:'\n",
    "passing_engagement_by_acc = group_data(passing_engagement,'account_key')\n",
    "total_lessons_by_acc = sum_grouped_values(passing_engagement_by_acc,'lessons_completed')\n",
    "describe_data(total_lessons_by_acc.values())\n",
    "print ''\n",
    "print 'non_passing students, lessons_completed:'\n",
    "non_passing_engagement_by_acc = group_data(non_passing_engagement,'account_key')\n",
    "non_total_lessons_by_acc = sum_grouped_values(non_passing_engagement_by_acc,'lessons_completed')\n",
    "describe_data(non_total_lessons_by_acc.values())"
   ]
  },
  {
   "cell_type": "code",
   "execution_count": 168,
   "metadata": {
    "collapsed": false
   },
   "outputs": [
    {
     "name": "stdout",
     "output_type": "stream",
     "text": [
      "passing students, total_minutes_visited:\n",
      "Mean: 394.586046484\n",
      "Standard deviation: 448.499519327\n",
      "Min: 0.0\n",
      "Max: 3564.7332645\n",
      "\n",
      "non_passing students, total_minutes_visited:\n",
      "Mean: 143.326474267\n",
      "Standard deviation: 269.538619011\n",
      "Min: 0.0\n",
      "Max: 1768.52274933\n"
     ]
    },
    {
     "data": {
      "image/png": "[encoded data removed]",
      "text/plain": [
       "<matplotlib.figure.Figure at 0x11d001650>"
      ]
     },
     "metadata": {},
     "output_type": "display_data"
    }
   ],
   "source": [
    "print 'passing students, total_minutes_visited:'\n",
    "passing_engagement_by_acc = group_data(passing_engagement,'account_key')\n",
    "total_minutess_by_acc = sum_grouped_values(passing_engagement_by_acc,'total_minutes_visited')\n",
    "describe_data(total_minutess_by_acc.values())\n",
    "print ''\n",
    "print 'non_passing students, total_minutes_visited:'\n",
    "non_passing_engagement_by_acc = group_data(non_passing_engagement,'account_key')\n",
    "non_total_minutess_by_acc = sum_grouped_values(non_passing_engagement_by_acc,'total_minutes_visited')\n",
    "describe_data(non_total_minutess_by_acc.values())"
   ]
  },
  {
   "cell_type": "code",
   "execution_count": 169,
   "metadata": {
    "collapsed": false
   },
   "outputs": [
    {
     "name": "stdout",
     "output_type": "stream",
     "text": [
      "passing students, days visited:\n",
      "Mean: 3.38485316847\n",
      "Standard deviation: 2.25882147092\n",
      "Min: 0\n",
      "Max: 7\n",
      "\n",
      "non_passing students, days visited:\n",
      "Mean: 1.90517241379\n",
      "Standard deviation: 1.90573144136\n",
      "Min: 0\n",
      "Max: 7\n"
     ]
    },
    {
     "data": {
      "image/png": "[encoded data removed]",
      "text/plain": [
       "<matplotlib.figure.Figure at 0x12ceaf550>"
      ]
     },
     "metadata": {},
     "output_type": "display_data"
    }
   ],
   "source": [
    "print 'passing students, days visited:'\n",
    "passing_engagement_by_acc = group_data(passing_engagement,'account_key')\n",
    "total_visits_by_acc = sum_grouped_values(passing_engagement_by_acc,'has_visited')\n",
    "describe_data(total_visits_by_acc.values())\n",
    "print ''\n",
    "print 'non_passing students, days visited:'\n",
    "non_passing_engagement_by_acc = group_data(non_passing_engagement,'account_key')\n",
    "non_total_visits_by_acc = sum_grouped_values(non_passing_engagement_by_acc,'has_visited')\n",
    "describe_data(non_total_visits_by_acc.values())"
   ]
  },
  {
   "cell_type": "markdown",
   "metadata": {},
   "source": [
    "### This graph looks weird! why do we have these gaps??? There're just 7 days in a week. Therefore, there should be 7 bins on this histogram. Let's force python to do so :) "
   ]
  },
  {
   "cell_type": "code",
   "execution_count": null,
   "metadata": {
    "collapsed": true
   },
   "outputs": [],
   "source": []
  },
  {
   "cell_type": "markdown",
   "metadata": {},
   "source": [
    "## Time to do some plots!"
   ]
  },
  {
   "cell_type": "code",
   "execution_count": 170,
   "metadata": {
    "collapsed": true
   },
   "outputs": [],
   "source": [
    "### Let's try once and then add plt.hist(data) to our \"describe\" function to avoid writing same code for 6 histograms :) "
   ]
  },
  {
   "cell_type": "code",
   "execution_count": 171,
   "metadata": {
    "collapsed": false
   },
   "outputs": [
    {
     "name": "stdout",
     "output_type": "stream",
     "text": [
      "total_visits_by_acc:\n"
     ]
    },
    {
     "data": {
      "text/plain": [
       "<matplotlib.text.Text at 0x11913a490>"
      ]
     },
     "execution_count": 171,
     "metadata": {},
     "output_type": "execute_result"
    },
    {
     "data": {
      "image/png": "[encoded data removed]",
      "text/plain": [
       "<matplotlib.figure.Figure at 0x11dd622d0>"
      ]
     },
     "metadata": {},
     "output_type": "display_data"
    }
   ],
   "source": [
    "print 'total_visits_by_acc:'\n",
    "plt.hist(total_visits_by_acc.values())\n",
    "plt.xlabel('Number of days')\n",
    "plt.title('Distribution of classroom visits in the first week ' + \n",
    "          'for students who pass the subway project')"
   ]
  },
  {
   "cell_type": "code",
   "execution_count": 172,
   "metadata": {
    "collapsed": false
   },
   "outputs": [
    {
     "name": "stdout",
     "output_type": "stream",
     "text": [
      "non_total_visits_by_acc:\n"
     ]
    },
    {
     "data": {
      "text/plain": [
       "<matplotlib.text.Text at 0x106624510>"
      ]
     },
     "execution_count": 172,
     "metadata": {},
     "output_type": "execute_result"
    },
    {
     "data": {
      "image/png": "[encoded data removed]",
      "text/plain": [
       "<matplotlib.figure.Figure at 0x11d0ce210>"
      ]
     },
     "metadata": {},
     "output_type": "display_data"
    }
   ],
   "source": [
    "print 'non_total_visits_by_acc:'\n",
    "plt.hist(non_total_visits_by_acc.values())\n",
    "plt.xlabel('Number of days')\n",
    "plt.title('Distribution of classroom visits in the first week ' + \n",
    "          'for students who didnt pass the subway project')"
   ]
  },
  {
   "cell_type": "markdown",
   "metadata": {},
   "source": [
    "### We can make these plots a little more beautiful by using seaborn lib. To install it, run \"conda install seaborn\" from the terminal."
   ]
  },
  {
   "cell_type": "code",
   "execution_count": 173,
   "metadata": {
    "collapsed": false,
    "scrolled": true
   },
   "outputs": [
    {
     "data": {
      "text/plain": [
       "<matplotlib.text.Text at 0x11da34210>"
      ]
     },
     "execution_count": 173,
     "metadata": {},
     "output_type": "execute_result"
    },
    {
     "data": {
      "image/png": "[encoded data removed]",
      "text/plain": [
       "<matplotlib.figure.Figure at 0x11e0361d0>"
      ]
     },
     "metadata": {},
     "output_type": "display_data"
    }
   ],
   "source": [
    "import seaborn as sns\n",
    "\n",
    "plt.hist(total_visits_by_acc.values(), bins=8)\n",
    "plt.xlabel('Number of days')\n",
    "plt.title('Distribution of classroom visits in the first week ' + \n",
    "          'for students who pass the subway project')\n",
    "\n",
    "#plt.hist(data, bins=20) would make sure your histogram has 20 bins."
   ]
  },
  {
   "cell_type": "code",
   "execution_count": null,
   "metadata": {
    "collapsed": false
   },
   "outputs": [],
   "source": []
  },
  {
   "cell_type": "code",
   "execution_count": null,
   "metadata": {
    "collapsed": true
   },
   "outputs": [],
   "source": []
  }
 ],
 "metadata": {
  "anaconda-cloud": {},
  "kernelspec": {
   "display_name": "Python [Root]",
   "language": "python",
   "name": "Python [Root]"
  },
  "language_info": {
   "codemirror_mode": {
    "name": "ipython",
    "version": 2
   },
   "file_extension": ".py",
   "mimetype": "text/x-python",
   "name": "python",
   "nbconvert_exporter": "python",
   "pygments_lexer": "ipython2",
   "version": "2.7.12"
  }
 },
 "nbformat": 4,
 "nbformat_minor": 0
}
